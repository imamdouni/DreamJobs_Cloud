{
 "cells": [
  {
   "cell_type": "code",
   "execution_count": 1,
   "metadata": {
    "pycharm": {
     "is_executing": true
    },
    "ExecuteTime": {
     "end_time": "2023-08-22T10:17:05.360542900Z",
     "start_time": "2023-08-22T10:17:03.110956900Z"
    }
   },
   "outputs": [],
   "source": [
    "import tools\n",
    "import pandas as pd\n",
    "from stepstone import Stepstone_Scraper\n",
    "\n",
    "con = tools.connect_db()"
   ]
  },
  {
   "cell_type": "code",
   "execution_count": null,
   "metadata": {
    "pycharm": {
     "is_executing": true
    }
   },
   "outputs": [],
   "source": [
    "scraper = Stepstone_Scraper(\"Data Analyst\", anzahl_seiten=1)\n",
    "scraper.open_browser()"
   ]
  },
  {
   "cell_type": "code",
   "execution_count": 3,
   "metadata": {},
   "outputs": [
    {
     "name": "stdout",
     "output_type": "stream",
     "text": [
      "suche_sort\n"
     ]
    }
   ],
   "source": [
    "#scraper.suche_sort()"
   ]
  },
  {
   "cell_type": "code",
   "execution_count": 3,
   "metadata": {},
   "outputs": [
    {
     "name": "stdout",
     "output_type": "stream",
     "text": [
      "scrape_urls\n",
      "['https://www.stepstone.de/stellenangebote--Informatik-Data-Scientist-Master-Uni-Diplom-TH-m-w-d-fuer-Satelliten-auswertung-Bergisch-Gladbach-Bundesanstalt-fuer-Strassenwesen-BASt--9887171-inline.html', 'https://www.stepstone.de/stellenangebote--Controller-Data-Analyst-m-w-d-Birkenfeld-STRATEC-SE--9830709-inline.html', 'https://www.stepstone.de/stellenangebote--Data-Scientist-m-w-d-Hamburg-Hannover-Helmstedt-Essen-Dortmund-Landshut-E-ON-Grid-Solutions-GmbH--9887632-inline.html', 'https://www.stepstone.de/stellenangebote--Mitarbeiter-Datenanalyse-m-w-d-Offenburg-EDEKA-Suedwest-Stiftung-Co-KG--9772786-inline.html', 'https://www.stepstone.de/stellenangebote--Senior-Marketing-Data-Analyst-m-f-x-bundesweit-Home-Office-Homeday-GmbH--9887255-inline.html', 'https://www.stepstone.de/stellenangebote--Praktikant-Customer-Data-Insights-m-w-d-Muelheim-an-der-Ruhr-ALDI-SUED-Dienstleistungs-SE-Co-oHG--9887086-inline.html', 'https://www.stepstone.de/stellenangebote--Cybersecurity-Data-Consultant-m-f-divers-REF18167K-Hannover-Frankfurt-Regensburg-Continental-AG--9886351-inline.html', 'https://www.stepstone.de/stellenangebote--Professor-m-w-x-W2-Professorship-for-Reinforcement-Learning-Wuerzburg-Technische-Hochschule-Wuerzburg-Schweinfurt--9877234-inline.html', 'https://www.stepstone.de/stellenangebote--Professor-m-w-x-W2-Professorship-for-Computer-Vision-Wuerzburg-Technische-Hochschule-Wuerzburg-Schweinfurt--9877060-inline.html', 'https://www.stepstone.de/stellenangebote--Stock-and-Reorder-Analyst-m-w-d-Muenchen-Willy-Bogner-GmbH--9830453-inline.html', 'https://www.stepstone.de/stellenangebote--Manager-Data-Science-Business-Analytics-w-m-d-Laichingen-STADA-Arzneimittel-AG--9831460-inline.html', 'https://www.stepstone.de/stellenangebote--Junior-Beraterin-Prozess-und-Datenintegration-Berlin-Bielefeld-Dortmund-Goettingen-Hamburg-Heidelberg-Jena-Koeln-Muenchen-und-weitere-NTT-DATA-Business-Solutions-AG--9411541-inline.html', 'https://www.stepstone.de/stellenangebote--Data-Scientist-m-w-d-am-Flughafen-Frankfurt-befristet-fuer-die-Dauer-der-Elternzeit-Frankfurt-am-Main-Fraport-AG--9886097-inline.html', 'https://www.stepstone.de/stellenangebote--Marktanalyst-Produktentwicklung-Versicherungen-Market-Research-Analyst-Insurance-Versicherungskaufmann-Versicherungsfachwirt-Wirtschaftswissenschaftler-bzw-Business-Analyst-Versicherung-w-m-d-Frankfurt-Berlin-Hannover-Hamburg-Koeln-Dresden-Leipzig-Chemnitz-Nuernberg-Muenchen-Stuttgart-DFV-Deutsche-Familienversicherung-AG--9771776-inline.html', 'https://www.stepstone.de/stellenangebote--BI-Entwickler-Microsoft-SQL-Server-m-w-d-Bad-Ems-Loewenstein-Medical-SE-Co-KG--9830599-inline.html', 'https://www.stepstone.de/stellenangebote--Data-Analyst-Programmer-m-w-d-Unterluess-bei-Celle-Kiel-Kassel-Hamburg-Rheinmetall-Landsysteme-GmbH--9390393-inline.html', 'https://www.stepstone.de/stellenangebote--IT-Fachspezialist-BI-Entwicklung-m-w-d-Ingolstadt-Volkswagen-Group-Services-GmbH--9764896-inline.html', 'https://www.stepstone.de/stellenangebote--Customer-Data-CRM-Consultant-m-w-d-Muelheim-an-der-Ruhr-ALDI-SUED-Dienstleistungs-SE-Co-oHG--9887176-inline.html', 'https://www.stepstone.de/stellenangebote--Data-Scientist-in-mit-Underwriting-Kenntnissen-fuer-den-lateinamerikanischen-Markt-Hannover-Hannover-Rueck-SE--9830870-inline.html', 'https://www.stepstone.de/stellenangebote--Data-Scientist-m-w-d-Wuerzburg-snapADDY-GmbH--8962227-inline.html', 'https://www.stepstone.de/stellenangebote--Referent-Aktuariat-Aktuar-Analyst-Versicherungsmathematiker-Wirtschaftsmathematiker-Mathematiker-Statistiker-Wirtschaftsinformatiker-Kalkulator-Spezialist-Kalkulation-Versicherungen-w-m-d-Frankfurt-am-Main-DFV-Deutsche-Familienversicherung-AG--9771758-inline.html', 'https://www.stepstone.de/stellenangebote--Financial-Reporting-Specialist-Europe-SE-f-m-d-Frankfurt-am-Main-Germany-UBS-AG--9642002-inline.html', 'https://www.stepstone.de/stellenangebote--Daten-und-Prozessanalyst-w-m-d-Hamburg-freenet-AG--9772710-inline.html', 'https://www.stepstone.de/stellenangebote--Senior-Scientist-Group-Leader-Hydrology-Ecohydrology-Soil-Science-or-Agricultural-Science-Juelich-bei-Koeln-Forschungszentrum-Juelich-GmbH--9886912-inline.html', 'https://www.stepstone.de/stellenangebote--Data-Analyst-m-w-d-Hannover-oder-Muenster-Finanz-Informatik-GmbH-Co-KG--9884276-inline.html']\n"
     ]
    }
   ],
   "source": [
    "liste = scraper.scrape_urls()\n",
    "print(liste)"
   ]
  },
  {
   "cell_type": "code",
   "execution_count": 4,
   "metadata": {},
   "outputs": [],
   "source": [
    "url = \"https://www.stepstone.de/stellenangebote--Controller-Data-Analyst-m-w-d-Birkenfeld-STRATEC-SE--9830709-inline.html\"\n",
    "anzeige = scraper.scrape_details(url)"
   ]
  },
  {
   "cell_type": "code",
   "execution_count": 10,
   "metadata": {},
   "outputs": [
    {
     "data": {
      "text/html": [
       "<div>\n",
       "<style scoped>\n",
       "    .dataframe tbody tr th:only-of-type {\n",
       "        vertical-align: middle;\n",
       "    }\n",
       "\n",
       "    .dataframe tbody tr th {\n",
       "        vertical-align: top;\n",
       "    }\n",
       "\n",
       "    .dataframe thead th {\n",
       "        text-align: right;\n",
       "    }\n",
       "</style>\n",
       "<table border=\"1\" class=\"dataframe\">\n",
       "  <thead>\n",
       "    <tr style=\"text-align: right;\">\n",
       "      <th></th>\n",
       "      <th>seite</th>\n",
       "      <th>seiten_inhalt_html</th>\n",
       "      <th>seiten_inhalt</th>\n",
       "      <th>url</th>\n",
       "      <th>datum</th>\n",
       "      <th>storno</th>\n",
       "    </tr>\n",
       "  </thead>\n",
       "  <tbody>\n",
       "    <tr>\n",
       "      <th>0</th>\n",
       "      <td>stepstone</td>\n",
       "      <td>\\n&lt;div class=\"print-100-percent reb-column-lef...</td>\n",
       "      <td>Bell icon\\nJobs per E-Mail\\nBundesanstalt für ...</td>\n",
       "      <td>https://www.stepstone.de/stellenangebote--Info...</td>\n",
       "      <td>2023-08-03 12:56:32.003015</td>\n",
       "      <td>False</td>\n",
       "    </tr>\n",
       "  </tbody>\n",
       "</table>\n",
       "</div>"
      ],
      "text/plain": [
       "       seite                                 seiten_inhalt_html  \\\n",
       "0  stepstone  \\n<div class=\"print-100-percent reb-column-lef...   \n",
       "\n",
       "                                       seiten_inhalt  \\\n",
       "0  Bell icon\\nJobs per E-Mail\\nBundesanstalt für ...   \n",
       "\n",
       "                                                 url  \\\n",
       "0  https://www.stepstone.de/stellenangebote--Info...   \n",
       "\n",
       "                       datum  storno  \n",
       "0 2023-08-03 12:56:32.003015   False  "
      ]
     },
     "execution_count": 10,
     "metadata": {},
     "output_type": "execute_result"
    }
   ],
   "source": [
    "anzeige"
   ]
  },
  {
   "cell_type": "code",
   "execution_count": 5,
   "metadata": {},
   "outputs": [],
   "source": [
    "scraper.close_browser()"
   ]
  },
  {
   "cell_type": "code",
   "execution_count": null,
   "metadata": {},
   "outputs": [],
   "source": []
  }
 ],
 "metadata": {
  "kernelspec": {
   "display_name": "dreamjobs",
   "language": "python",
   "name": "python3"
  },
  "language_info": {
   "codemirror_mode": {
    "name": "ipython",
    "version": 3
   },
   "file_extension": ".py",
   "mimetype": "text/x-python",
   "name": "python",
   "nbconvert_exporter": "python",
   "pygments_lexer": "ipython3",
   "version": "3.11.4"
  },
  "orig_nbformat": 4
 },
 "nbformat": 4,
 "nbformat_minor": 2
}
